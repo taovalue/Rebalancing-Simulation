{
 "cells": [
  {
   "cell_type": "markdown",
   "metadata": {},
   "source": [
    "## Summary\n",
    "This script performs Monte Carlo simulation for theoretical \"rebalancing\" strategies during the Great Financial Crisis (2007 to 2009), with the goal to test whether rebalancing help performance during a crisis."
   ]
  },
  {
   "cell_type": "code",
   "execution_count": 126,
   "metadata": {},
   "outputs": [],
   "source": [
    "# Import libraries and dependencies\n",
    "from os import path\n",
    "from datetime import datetime\n",
    "\n",
    "import numpy as np\n",
    "import scipy as sp\n",
    "import pandas as pd\n",
    "import matplotlib.pyplot as plt\n",
    "import seaborn as sns\n"
   ]
  },
  {
   "cell_type": "code",
   "execution_count": 142,
   "metadata": {},
   "outputs": [],
   "source": [
    "# color palette\n",
    "clr1 = [\"#00ab4e\",\"#58595b\",\"#939598\",\"#000000\",\"#FFFFFF\"]\n",
    "clr2 = [\"#00ab4e\",\"#b1b3b6\",\"#009697\",\"#8dc63f\",'#00b5f1','#f7941d','#96157c','#fabfb7','#ee2f53',\n",
    "       '#b6e4fa','#0066b3','#ffd000','#58595b','#8dc0c4','#c84723','#c4df9b','#103c68','#8f7890',\n",
    "        '#ffe694','#265b3f','#fbb161','#4b254c']\n",
    "\n",
    "# file path\n",
    "fpath = r'D:\\Git\\rebal-sim'\n",
    "retFile = 'SimData.txt'"
   ]
  },
  {
   "cell_type": "markdown",
   "metadata": {},
   "source": [
    "### Load Pre-Calculated Return Data\n",
    "Below table contains 3 months forward return for:\n",
    "* \"Reversion\" rebalance (Ret_r, calculated as D1-D10); \n",
    "* \"Momentum\" rebalance (Ret_m, calculated as D10-D1); \n",
    "* Russell 3000 (Ret_i)"
   ]
  },
  {
   "cell_type": "code",
   "execution_count": 69,
   "metadata": {},
   "outputs": [],
   "source": [
    "df_Ret = pd.read_csv(path.join(fpath, retFile), sep = '\\t', parse_dates=[\"Date\"])\n"
   ]
  },
  {
   "cell_type": "code",
   "execution_count": 70,
   "metadata": {},
   "outputs": [
    {
     "data": {
      "text/html": [
       "<div>\n",
       "<style scoped>\n",
       "    .dataframe tbody tr th:only-of-type {\n",
       "        vertical-align: middle;\n",
       "    }\n",
       "\n",
       "    .dataframe tbody tr th {\n",
       "        vertical-align: top;\n",
       "    }\n",
       "\n",
       "    .dataframe thead th {\n",
       "        text-align: right;\n",
       "    }\n",
       "</style>\n",
       "<table border=\"1\" class=\"dataframe\">\n",
       "  <thead>\n",
       "    <tr style=\"text-align: right;\">\n",
       "      <th></th>\n",
       "      <th>Date</th>\n",
       "      <th>Ret_r</th>\n",
       "      <th>Ret_m</th>\n",
       "      <th>Ret_i</th>\n",
       "      <th>Ret_n</th>\n",
       "    </tr>\n",
       "  </thead>\n",
       "  <tbody>\n",
       "    <tr>\n",
       "      <th>0</th>\n",
       "      <td>2007-03-01</td>\n",
       "      <td>-5.6560</td>\n",
       "      <td>5.6560</td>\n",
       "      <td>5.324168</td>\n",
       "      <td>0.0</td>\n",
       "    </tr>\n",
       "    <tr>\n",
       "      <th>1</th>\n",
       "      <td>2007-06-01</td>\n",
       "      <td>-9.6478</td>\n",
       "      <td>9.6478</td>\n",
       "      <td>1.099414</td>\n",
       "      <td>0.0</td>\n",
       "    </tr>\n",
       "    <tr>\n",
       "      <th>2</th>\n",
       "      <td>2007-09-01</td>\n",
       "      <td>-14.5031</td>\n",
       "      <td>14.5031</td>\n",
       "      <td>-3.802717</td>\n",
       "      <td>0.0</td>\n",
       "    </tr>\n",
       "    <tr>\n",
       "      <th>3</th>\n",
       "      <td>2007-12-01</td>\n",
       "      <td>0.7328</td>\n",
       "      <td>-0.7328</td>\n",
       "      <td>-9.960902</td>\n",
       "      <td>0.0</td>\n",
       "    </tr>\n",
       "    <tr>\n",
       "      <th>4</th>\n",
       "      <td>2008-03-01</td>\n",
       "      <td>-7.5280</td>\n",
       "      <td>7.5280</td>\n",
       "      <td>-2.161834</td>\n",
       "      <td>0.0</td>\n",
       "    </tr>\n",
       "    <tr>\n",
       "      <th>5</th>\n",
       "      <td>2008-06-01</td>\n",
       "      <td>37.8210</td>\n",
       "      <td>-37.8210</td>\n",
       "      <td>-9.303566</td>\n",
       "      <td>0.0</td>\n",
       "    </tr>\n",
       "    <tr>\n",
       "      <th>6</th>\n",
       "      <td>2008-09-01</td>\n",
       "      <td>-23.3657</td>\n",
       "      <td>23.3657</td>\n",
       "      <td>-23.271927</td>\n",
       "      <td>0.0</td>\n",
       "    </tr>\n",
       "    <tr>\n",
       "      <th>7</th>\n",
       "      <td>2008-12-01</td>\n",
       "      <td>7.3092</td>\n",
       "      <td>-7.3092</td>\n",
       "      <td>-11.421430</td>\n",
       "      <td>0.0</td>\n",
       "    </tr>\n",
       "    <tr>\n",
       "      <th>8</th>\n",
       "      <td>2009-03-01</td>\n",
       "      <td>27.7366</td>\n",
       "      <td>-27.7366</td>\n",
       "      <td>16.151272</td>\n",
       "      <td>0.0</td>\n",
       "    </tr>\n",
       "    <tr>\n",
       "      <th>9</th>\n",
       "      <td>2009-06-01</td>\n",
       "      <td>-15.2142</td>\n",
       "      <td>15.2142</td>\n",
       "      <td>15.729435</td>\n",
       "      <td>0.0</td>\n",
       "    </tr>\n",
       "    <tr>\n",
       "      <th>10</th>\n",
       "      <td>2009-09-01</td>\n",
       "      <td>-4.0231</td>\n",
       "      <td>4.0231</td>\n",
       "      <td>5.365643</td>\n",
       "      <td>0.0</td>\n",
       "    </tr>\n",
       "  </tbody>\n",
       "</table>\n",
       "</div>"
      ],
      "text/plain": [
       "         Date    Ret_r    Ret_m      Ret_i  Ret_n\n",
       "0  2007-03-01  -5.6560   5.6560   5.324168    0.0\n",
       "1  2007-06-01  -9.6478   9.6478   1.099414    0.0\n",
       "2  2007-09-01 -14.5031  14.5031  -3.802717    0.0\n",
       "3  2007-12-01   0.7328  -0.7328  -9.960902    0.0\n",
       "4  2008-03-01  -7.5280   7.5280  -2.161834    0.0\n",
       "5  2008-06-01  37.8210 -37.8210  -9.303566    0.0\n",
       "6  2008-09-01 -23.3657  23.3657 -23.271927    0.0\n",
       "7  2008-12-01   7.3092  -7.3092 -11.421430    0.0\n",
       "8  2009-03-01  27.7366 -27.7366  16.151272    0.0\n",
       "9  2009-06-01 -15.2142  15.2142  15.729435    0.0\n",
       "10 2009-09-01  -4.0231   4.0231   5.365643    0.0"
      ]
     },
     "execution_count": 70,
     "metadata": {},
     "output_type": "execute_result"
    }
   ],
   "source": [
    "# add Ret_n to represent \"do nothing\" for future iteration\n",
    "df_Ret['Ret_n']=0.0\n",
    "df_Ret"
   ]
  },
  {
   "cell_type": "markdown",
   "metadata": {},
   "source": [
    "### Set simulation parameters\n"
   ]
  },
  {
   "cell_type": "code",
   "execution_count": 119,
   "metadata": {},
   "outputs": [],
   "source": [
    "# choice of a) reversion balance, b) momentum balance, or c) do nothing\n",
    "l_choice = ['Ret_r','Ret_m','Ret_n']\n",
    "\n",
    "# probability of doing a) reversion balance, b) momentum balance, or c) do nothing\n",
    "l_prob = [0.3,0.3,0.4]\n",
    "\n",
    "# number of simulation to do\n",
    "num_sim = 1000"
   ]
  },
  {
   "cell_type": "markdown",
   "metadata": {},
   "source": [
    "### Simulation\n",
    "\n",
    "Assuming we have a long only R3K index strategy, with 10% notional Long/Short overlay for opportunistic rebalancing (i.e. at each point, the PM can discretionarily choose among 1) reversion rebalancing (long 10% notional D1, short 10% notional D10), 2) momentum rebalancing (long 10% notional D10, short 10% notional D1), and 3) do nothing, with specified probability. For trial purpose, I use [0.2,0.2,0.6], but one change it to reflect their own inclination (either more \"value\", thus higher prob for \"reversion\", or vice versa)."
   ]
  },
  {
   "cell_type": "code",
   "execution_count": 120,
   "metadata": {},
   "outputs": [],
   "source": [
    "# Set strategy parameters\n",
    "\n",
    "# L/S overlay notional\n",
    "oln = 0.2"
   ]
  },
  {
   "cell_type": "code",
   "execution_count": 121,
   "metadata": {
    "scrolled": true
   },
   "outputs": [],
   "source": [
    "# Creat an empty DF to store simulation results\n",
    "df_sim = pd.DataFrame()\n",
    "\n",
    "df_sim['Date'] = df_Ret['Date']\n",
    "\n",
    "# Run num_sim times simulation using for loop\n",
    "for i in range(num_sim):\n",
    "    # print(f'Running simulation for itration {i}...')\n",
    "    \n",
    "    # create an empty list to store sim'd ret series\n",
    "    l_ret = []\n",
    "    \n",
    "    for j, d in enumerate(df_sim['Date']):\n",
    "        # print(f'Simulating return for {j} {d}')\n",
    "        \n",
    "        # Random draw\n",
    "        rd = np.random.choice(l_choice, p=l_prob)\n",
    "        \n",
    "        # get overlay part return\n",
    "        ret = df_Ret[rd][j]\n",
    "        \n",
    "        # calculate full return (100% + index return + overlay return)\n",
    "        ret_full = 1 + df_Ret['Ret_i'][j]/100 + ret*oln/100\n",
    "        \n",
    "        # print(f'randomly draw {rd}, return of {ret_full}')\n",
    "        \n",
    "        l_ret.append(ret_full)\n",
    "    \n",
    "    # append return stream to data frame\n",
    "    df_sim[f'Sim_{i}'] = pd.Series(l_ret)\n",
    "\n",
    "# df_sim\n",
    "        \n",
    "        \n",
    "        \n",
    "\n"
   ]
  },
  {
   "cell_type": "code",
   "execution_count": 122,
   "metadata": {},
   "outputs": [],
   "source": [
    "# Create cumulative return DF\n",
    "\n",
    "df_CumRet = pd.DataFrame()\n",
    "\n",
    "df_CumRet['Date'] = df_Ret['Date']\n",
    "\n",
    "for i in range(num_sim):\n",
    "    df_CumRet[f'CumRet_{i}'] = np.cumprod(df_sim[f'Sim_{i}'])\n",
    "\n",
    "# df_CumRet"
   ]
  },
  {
   "cell_type": "markdown",
   "metadata": {},
   "source": [
    "### Stats Summary & Visualization\n",
    "\n",
    "A few options:\n",
    "* Cumulative return path chart\n",
    "* End value distribution chart"
   ]
  },
  {
   "cell_type": "code",
   "execution_count": 75,
   "metadata": {},
   "outputs": [],
   "source": [
    "# set Date as index for ploting\n",
    "# df_CRMelt = pd.melt(df_CumRet, id_vars=['Date'])\n",
    "# df_CumRet.set_index('Date', inplace=True)\n"
   ]
  },
  {
   "cell_type": "code",
   "execution_count": 123,
   "metadata": {},
   "outputs": [
    {
     "data": {
      "text/plain": [
       "<matplotlib.axes._subplots.AxesSubplot at 0x2066bd5f748>"
      ]
     },
     "execution_count": 123,
     "metadata": {},
     "output_type": "execute_result"
    },
    {
     "data": {
      "image/png": "[encoded data removed]",
      "text/plain": [
       "<Figure size 432x288 with 1 Axes>"
      ]
     },
     "metadata": {},
     "output_type": "display_data"
    }
   ],
   "source": [
    "# plot cum return path chart\n",
    "df_CumRet.plot(x='Date', legend=None)\n"
   ]
  },
  {
   "cell_type": "code",
   "execution_count": 124,
   "metadata": {},
   "outputs": [
    {
     "data": {
      "text/plain": [
       "count    1000.000000\n",
       "mean        0.788646\n",
       "std         0.079328\n",
       "min         0.587666\n",
       "25%         0.733055\n",
       "50%         0.782056\n",
       "75%         0.841702\n",
       "max         1.027896\n",
       "dtype: float64"
      ]
     },
     "execution_count": 124,
     "metadata": {},
     "output_type": "execute_result"
    }
   ],
   "source": [
    "l_EndV = df_CumRet.iloc[10,1:].tolist()\n",
    "s_EndV = pd.Series(l_EndV)\n",
    "s_EndV.describe()\n"
   ]
  },
  {
   "cell_type": "code",
   "execution_count": 125,
   "metadata": {},
   "outputs": [
    {
     "data": {
      "text/plain": [
       "<matplotlib.lines.Line2D at 0x2066cb4a2e8>"
      ]
     },
     "execution_count": 125,
     "metadata": {},
     "output_type": "execute_result"
    },
    {
     "data": {
      "image/png": "[encoded data removed]",
      "text/plain": [
       "<Figure size 432x288 with 1 Axes>"
      ]
     },
     "metadata": {},
     "output_type": "display_data"
    }
   ],
   "source": [
    "# histogram of end value distribution\n",
    "plt.hist(s_EndV)\n",
    "\n",
    "# draw a vertical line of \"do nothing\"\n",
    "r3k_EndV = 0.787805\n",
    "\n",
    "plt.axvline(x=r3k_EndV, color='black')\n"
   ]
  },
  {
   "cell_type": "code",
   "execution_count": 146,
   "metadata": {},
   "outputs": [
    {
     "name": "stdout",
     "output_type": "stream",
     "text": [
      "Probability of outperforming \"Do Nothing\" is 47.1%\n"
     ]
    }
   ],
   "source": [
    "# probability of better than \"do nothing\"\n",
    "\n",
    "# list of end value larger than \"do nothing\"\n",
    "l_op = [i for i in s_EndV if i > r3k_EndV]\n",
    "\n",
    "# calculate probability\n",
    "prob_op = len(l_op)/s_EndV.count()\n",
    "\n",
    "print(f'Probability of outperforming \"Do Nothing\" is {round(prob_op*100,2)}%')"
   ]
  },
  {
   "cell_type": "code",
   "execution_count": 131,
   "metadata": {},
   "outputs": [
    {
     "data": {
      "text/plain": [
       "Ttest_1sampResult(statistic=0.33520219918656974, pvalue=0.7375429366364625)"
      ]
     },
     "execution_count": 131,
     "metadata": {},
     "output_type": "execute_result"
    }
   ],
   "source": [
    "# statistical test\n",
    "sp.stats.ttest_1samp(s_EndV,r3k_EndV)"
   ]
  },
  {
   "cell_type": "markdown",
   "metadata": {},
   "source": [
    "### Functionizing the Simulation and Test more Scenarios\n",
    "\n",
    "Here I test how different psychological tendencies would affect the end value distribution.\n",
    "\n",
    "I use below two parameters to tweak an investors' tendencies:\n",
    "* Likelihood of acting (i.e. probability distribution of choices)\n",
    "* Aggressiveness of acting (% of notional for the L/S overlay)"
   ]
  },
  {
   "cell_type": "code",
   "execution_count": 155,
   "metadata": {},
   "outputs": [],
   "source": [
    "# functionize the simimulation\n",
    "\n",
    "def reb_sim(n_sim,l_prob,n_oln):\n",
    "    \"\"\"\n",
    "    Rebalance Simulation function\n",
    "    \n",
    "    Inputs:\n",
    "        - n_sim: number of simulation to run\n",
    "        - l_prob: a list of probability of 1) reversion rebalance; 2) momentum rebalance or 3) do nothing. \n",
    "                    Make sure all numbers add up to 1. e.g. [0.2,0.2,0.6]\n",
    "        - n_oln: the overlay strategy's notional in % of total long notional\n",
    "    \n",
    "    Outputs:\n",
    "        - df_simRet: data frame storing simulated overlay strategy return for individual period\n",
    "        - df_cumRet: data frame storing total return of each period (100% + index return + overlay return)\n",
    "        - df_simChoice: data frame storing simulated choices\n",
    "        - l_EndV: list of end value\n",
    "    \"\"\"\n",
    "    \n",
    "    # Creat empty placehoder DFs\n",
    "    df_simRet = pd.DataFrame()\n",
    "    df_cumRet = pd.DataFrame()\n",
    "    df_simChoice = pd.DataFrame()\n",
    "\n",
    "    df_simRet['Date'] = df_Ret['Date']\n",
    "    df_cumRet['Date'] = df_Ret['Date']\n",
    "    df_simChoice['Date'] = df_Ret['Date']\n",
    "\n",
    "    # Run num_sim times simulation using for loop\n",
    "    for i in range(n_sim):\n",
    "        # print(f'Running simulation for itration {i}...')\n",
    "\n",
    "        # create empty placehoder lists\n",
    "        l_simRet = []\n",
    "        l_cumRet =[]\n",
    "        l_simChoice = []\n",
    "\n",
    "        for j, d in enumerate(df_sim['Date']):\n",
    "            # print(f'Simulating return for {j} {d}')\n",
    "\n",
    "            # Random draw\n",
    "            rd = np.random.choice(l_choice, p=l_prob)\n",
    "\n",
    "            # get overlay part return\n",
    "            ret = df_Ret[rd][j]\n",
    "\n",
    "            # calculate full return (100% + index return + overlay return)\n",
    "            ret_full = 1 + df_Ret['Ret_i'][j]/100 + ret*n_oln/100\n",
    "\n",
    "            # print(f'randomly draw {rd}, return of {ret_full}')\n",
    "            \n",
    "            l_simRet.append(ret)\n",
    "            l_cumRet.append(ret_full)\n",
    "            l_simChoice.append(rd)\n",
    "\n",
    "        # append return stream to data frame\n",
    "        df_simRet[f'SimRet_{i}'] = pd.Series(l_cumRet)\n",
    "        df_cumRet[f'CumRet_{i}'] = pd.Series(np.cumprod(l_cumRet))\n",
    "        df_simChoice[f'SimChoice_{i}'] = pd.Series(l_simChoice)\n",
    "    \n",
    "    # get the last row of df_cumRet to get the end value in a Series\n",
    "    s_EndV = pd.Series(df_cumRet.iloc[-1,1:].tolist())\n",
    "    \n",
    "    return df_simRet, df_cumRet, df_simChoice, s_EndV\n",
    "        \n",
    "        "
   ]
  },
  {
   "cell_type": "code",
   "execution_count": 312,
   "metadata": {},
   "outputs": [],
   "source": [
    "# function to calculate probablity of generate higher return than a constant value (can be 0, or index return)\n",
    "\n",
    "def prob_op(df_, cont_):\n",
    "    \"\"\"\n",
    "    This function calculates the probability of a set of value larger than a constant value\n",
    "    \n",
    "    Inputs:\n",
    "        - df_:   a data frame with each column be a set to be calcualted\n",
    "        - cont_: a contant number to be used for probability calculation\n",
    "        \n",
    "    Outputs:\n",
    "        - df_out: output in size of df_.shape[0] * 1, \n",
    "                  represent the probability of larger than the constant input for each column\n",
    "    \"\"\"\n",
    "    \n",
    "    df_out = pd.DataFrame()\n",
    "    \n",
    "    for i, c in enumerate(df_.columns):\n",
    "        l_op = [j for j in df_[f'{c}'] if j > cont_]\n",
    "        \n",
    "        n_prob = len(l_op)/df_.shape[0]\n",
    "        \n",
    "        df_out[f'POutPerm_{i+1}'] = pd.Series(n_prob)\n",
    "        \n",
    "    return df_out\n"
   ]
  },
  {
   "cell_type": "markdown",
   "metadata": {},
   "source": [
    "#### Sensitivity Test of Aggressiveness of Investors\n",
    "\n",
    "In this test, we will tweak the overlay notional input while keeping all else equal, to emulate the aggressiveness of investors. E.g. 10% means the investor in addition to hold the index, would long 10% of the notional of a decile basket and short 10% of the notional of another decile basket.\n",
    "\n",
    "The result can be seen quite intuitive. Basically it predicts the more aggressive in acting (larger % notional), the wider the distribution.\n",
    "\n",
    "On the probability of outperform the pure index,\n",
    "\n"
   ]
  },
  {
   "cell_type": "code",
   "execution_count": 317,
   "metadata": {},
   "outputs": [],
   "source": [
    "# list of various overlay notional % assumptions\n",
    "l_oln = np.arange(0.1,1.0,0.1)"
   ]
  },
  {
   "cell_type": "code",
   "execution_count": 228,
   "metadata": {},
   "outputs": [
    {
     "name": "stdout",
     "output_type": "stream",
     "text": [
      "Running iteration 0, oln=0.1\n",
      "Running iteration 1, oln=0.2\n",
      "Running iteration 2, oln=0.30000000000000004\n",
      "Running iteration 3, oln=0.4\n",
      "Running iteration 4, oln=0.5\n",
      "Running iteration 5, oln=0.6\n",
      "Running iteration 6, oln=0.7000000000000001\n",
      "Running iteration 7, oln=0.8\n",
      "Running iteration 8, oln=0.9\n"
     ]
    }
   ],
   "source": [
    "# empty placehodler df\n",
    "df_oln = pd.DataFrame()\n",
    "\n",
    "# looping through all oln scenarios\n",
    "for i, n in enumerate(l_oln):\n",
    "    print(f'Running iteration {i}, oln={n}')\n",
    "    \n",
    "    df_oln[f'EV_{i+1}'] = reb_sim(1000, [0.2,0.2,0.6], n)[3]\n",
    "    \n"
   ]
  },
  {
   "cell_type": "code",
   "execution_count": 229,
   "metadata": {},
   "outputs": [
    {
     "data": {
      "text/html": [
       "<div>\n",
       "<style scoped>\n",
       "    .dataframe tbody tr th:only-of-type {\n",
       "        vertical-align: middle;\n",
       "    }\n",
       "\n",
       "    .dataframe tbody tr th {\n",
       "        vertical-align: top;\n",
       "    }\n",
       "\n",
       "    .dataframe thead th {\n",
       "        text-align: right;\n",
       "    }\n",
       "</style>\n",
       "<table border=\"1\" class=\"dataframe\">\n",
       "  <thead>\n",
       "    <tr style=\"text-align: right;\">\n",
       "      <th></th>\n",
       "      <th>EV_1</th>\n",
       "      <th>EV_2</th>\n",
       "      <th>EV_3</th>\n",
       "      <th>EV_4</th>\n",
       "      <th>EV_5</th>\n",
       "      <th>EV_6</th>\n",
       "      <th>EV_7</th>\n",
       "      <th>EV_8</th>\n",
       "      <th>EV_9</th>\n",
       "    </tr>\n",
       "  </thead>\n",
       "  <tbody>\n",
       "    <tr>\n",
       "      <th>count</th>\n",
       "      <td>1000.000000</td>\n",
       "      <td>1000.000000</td>\n",
       "      <td>1000.000000</td>\n",
       "      <td>1000.000000</td>\n",
       "      <td>1000.000000</td>\n",
       "      <td>1000.000000</td>\n",
       "      <td>1000.000000</td>\n",
       "      <td>1000.000000</td>\n",
       "      <td>1000.000000</td>\n",
       "    </tr>\n",
       "    <tr>\n",
       "      <th>mean</th>\n",
       "      <td>0.787344</td>\n",
       "      <td>0.786769</td>\n",
       "      <td>0.787414</td>\n",
       "      <td>0.788898</td>\n",
       "      <td>0.791618</td>\n",
       "      <td>0.785806</td>\n",
       "      <td>0.776116</td>\n",
       "      <td>0.788794</td>\n",
       "      <td>0.800862</td>\n",
       "    </tr>\n",
       "    <tr>\n",
       "      <th>std</th>\n",
       "      <td>0.031118</td>\n",
       "      <td>0.061991</td>\n",
       "      <td>0.094817</td>\n",
       "      <td>0.124900</td>\n",
       "      <td>0.159184</td>\n",
       "      <td>0.187564</td>\n",
       "      <td>0.219330</td>\n",
       "      <td>0.259254</td>\n",
       "      <td>0.293371</td>\n",
       "    </tr>\n",
       "    <tr>\n",
       "      <th>min</th>\n",
       "      <td>0.703712</td>\n",
       "      <td>0.616347</td>\n",
       "      <td>0.535895</td>\n",
       "      <td>0.482164</td>\n",
       "      <td>0.417578</td>\n",
       "      <td>0.372057</td>\n",
       "      <td>0.296888</td>\n",
       "      <td>0.298156</td>\n",
       "      <td>0.245479</td>\n",
       "    </tr>\n",
       "    <tr>\n",
       "      <th>25%</th>\n",
       "      <td>0.765471</td>\n",
       "      <td>0.742093</td>\n",
       "      <td>0.719513</td>\n",
       "      <td>0.697152</td>\n",
       "      <td>0.683352</td>\n",
       "      <td>0.657907</td>\n",
       "      <td>0.618806</td>\n",
       "      <td>0.600828</td>\n",
       "      <td>0.580250</td>\n",
       "    </tr>\n",
       "    <tr>\n",
       "      <th>50%</th>\n",
       "      <td>0.787190</td>\n",
       "      <td>0.784515</td>\n",
       "      <td>0.781343</td>\n",
       "      <td>0.785329</td>\n",
       "      <td>0.781258</td>\n",
       "      <td>0.764456</td>\n",
       "      <td>0.748905</td>\n",
       "      <td>0.755695</td>\n",
       "      <td>0.765683</td>\n",
       "    </tr>\n",
       "    <tr>\n",
       "      <th>75%</th>\n",
       "      <td>0.808779</td>\n",
       "      <td>0.827775</td>\n",
       "      <td>0.852207</td>\n",
       "      <td>0.871879</td>\n",
       "      <td>0.882985</td>\n",
       "      <td>0.896516</td>\n",
       "      <td>0.904288</td>\n",
       "      <td>0.933353</td>\n",
       "      <td>0.971940</td>\n",
       "    </tr>\n",
       "    <tr>\n",
       "      <th>max</th>\n",
       "      <td>0.873876</td>\n",
       "      <td>1.026256</td>\n",
       "      <td>1.081985</td>\n",
       "      <td>1.231146</td>\n",
       "      <td>1.354510</td>\n",
       "      <td>1.454522</td>\n",
       "      <td>1.626189</td>\n",
       "      <td>2.128114</td>\n",
       "      <td>2.106600</td>\n",
       "    </tr>\n",
       "  </tbody>\n",
       "</table>\n",
       "</div>"
      ],
      "text/plain": [
       "              EV_1         EV_2         EV_3         EV_4         EV_5  \\\n",
       "count  1000.000000  1000.000000  1000.000000  1000.000000  1000.000000   \n",
       "mean      0.787344     0.786769     0.787414     0.788898     0.791618   \n",
       "std       0.031118     0.061991     0.094817     0.124900     0.159184   \n",
       "min       0.703712     0.616347     0.535895     0.482164     0.417578   \n",
       "25%       0.765471     0.742093     0.719513     0.697152     0.683352   \n",
       "50%       0.787190     0.784515     0.781343     0.785329     0.781258   \n",
       "75%       0.808779     0.827775     0.852207     0.871879     0.882985   \n",
       "max       0.873876     1.026256     1.081985     1.231146     1.354510   \n",
       "\n",
       "              EV_6         EV_7         EV_8         EV_9  \n",
       "count  1000.000000  1000.000000  1000.000000  1000.000000  \n",
       "mean      0.785806     0.776116     0.788794     0.800862  \n",
       "std       0.187564     0.219330     0.259254     0.293371  \n",
       "min       0.372057     0.296888     0.298156     0.245479  \n",
       "25%       0.657907     0.618806     0.600828     0.580250  \n",
       "50%       0.764456     0.748905     0.755695     0.765683  \n",
       "75%       0.896516     0.904288     0.933353     0.971940  \n",
       "max       1.454522     1.626189     2.128114     2.106600  "
      ]
     },
     "execution_count": 229,
     "metadata": {},
     "output_type": "execute_result"
    }
   ],
   "source": [
    "df_oln.describe()"
   ]
  },
  {
   "cell_type": "code",
   "execution_count": 313,
   "metadata": {},
   "outputs": [
    {
     "data": {
      "text/html": [
       "<div>\n",
       "<style scoped>\n",
       "    .dataframe tbody tr th:only-of-type {\n",
       "        vertical-align: middle;\n",
       "    }\n",
       "\n",
       "    .dataframe tbody tr th {\n",
       "        vertical-align: top;\n",
       "    }\n",
       "\n",
       "    .dataframe thead th {\n",
       "        text-align: right;\n",
       "    }\n",
       "</style>\n",
       "<table border=\"1\" class=\"dataframe\">\n",
       "  <thead>\n",
       "    <tr style=\"text-align: right;\">\n",
       "      <th></th>\n",
       "      <th>POutPerm_1</th>\n",
       "      <th>POutPerm_2</th>\n",
       "      <th>POutPerm_3</th>\n",
       "      <th>POutPerm_4</th>\n",
       "      <th>POutPerm_5</th>\n",
       "      <th>POutPerm_6</th>\n",
       "      <th>POutPerm_7</th>\n",
       "      <th>POutPerm_8</th>\n",
       "      <th>POutPerm_9</th>\n",
       "    </tr>\n",
       "  </thead>\n",
       "  <tbody>\n",
       "    <tr>\n",
       "      <th>0</th>\n",
       "      <td>0.49</td>\n",
       "      <td>0.481</td>\n",
       "      <td>0.467</td>\n",
       "      <td>0.496</td>\n",
       "      <td>0.487</td>\n",
       "      <td>0.455</td>\n",
       "      <td>0.432</td>\n",
       "      <td>0.444</td>\n",
       "      <td>0.469</td>\n",
       "    </tr>\n",
       "  </tbody>\n",
       "</table>\n",
       "</div>"
      ],
      "text/plain": [
       "   POutPerm_1  POutPerm_2  POutPerm_3  POutPerm_4  POutPerm_5  POutPerm_6  \\\n",
       "0        0.49       0.481       0.467       0.496       0.487       0.455   \n",
       "\n",
       "   POutPerm_7  POutPerm_8  POutPerm_9  \n",
       "0       0.432       0.444       0.469  "
      ]
     },
     "execution_count": 313,
     "metadata": {},
     "output_type": "execute_result"
    }
   ],
   "source": [
    "# probability of outperformance\n",
    "prob_op(df_oln,r3k_EndV)"
   ]
  },
  {
   "cell_type": "code",
   "execution_count": 295,
   "metadata": {},
   "outputs": [
    {
     "data": {
      "text/plain": [
       "Text(0,-35,'Souce: Tao of Value')"
      ]
     },
     "execution_count": 295,
     "metadata": {},
     "output_type": "execute_result"
    },
    {
     "data": {
      "image/png": "[encoded data removed]",
      "text/plain": [
       "<Figure size 432x288 with 1 Axes>"
      ]
     },
     "metadata": {},
     "output_type": "display_data"
    }
   ],
   "source": [
    "# histogram on selected oln\n",
    "l_lgd = ['R3K']\n",
    "l_lgd.extend([f'Overlay Notional = {i}' for i in ['20%','50%','80%']])\n",
    "\n",
    "for i,c in enumerate([1,4,7]):\n",
    "    plt.hist(df_oln[f'EV_{c}'], density=True, alpha=0.5, color=clr2[i] )\n",
    "\n",
    "plt.axvline(x=r3k_EndV, color=clr1[2])\n",
    "plt.title(\"Distribution of End Value by Aggressiveness\")\n",
    "plt.xlabel('End Value 11/31/2009 ($)')\n",
    "plt.ylabel('Density')\n",
    "plt.legend(l_lgd)\n",
    "plt.annotate('Souce: Tao of Value', (0,0), (0, -35), xycoords='axes fraction', textcoords='offset points', va='top')"
   ]
  },
  {
   "cell_type": "code",
   "execution_count": 294,
   "metadata": {},
   "outputs": [
    {
     "data": {
      "text/plain": [
       "['R3K',\n",
       " 'Overlay Notional = 20%',\n",
       " 'Overlay Notional = 50%',\n",
       " 'Overlay Notional = 80%']"
      ]
     },
     "execution_count": 294,
     "metadata": {},
     "output_type": "execute_result"
    }
   ],
   "source": [
    "a= ['R3K']\n",
    "a.extend([f'Overlay Notional = {i}' for i in ['20%','50%','80%']])\n",
    "a\n",
    "\n",
    "#['R3K'].extend([f'Overlay Notional = {i}' for i in ['20%','50%','80%']])"
   ]
  },
  {
   "cell_type": "markdown",
   "metadata": {},
   "source": [
    "#### Sensitive Test of Style of Investors\n",
    "\n",
    "We can model different style of investors to allow higher probability of \"Reversion\" or \"Momentum\", to emulate more \"value\" style or \"growth\" style investors. e.g. the most \"value\" investor only does \"Reversion\" (40%), and \"Do Nothing\" (60%), but no \"Momentum\" rebalancing (0%).\n"
   ]
  },
  {
   "cell_type": "markdown",
   "metadata": {},
   "source": [
    "Below we did the sensitivity analysis of style (i.e. value vs. growth) of investors. We assume a constant probability of \"doing something\" at 40%, however allocate them differently between reversion and momentum to emulate style of investors.\n",
    "\n",
    "Interestingly, __higher tendency of \"Momentum\" rebalancing seems to help the performance__.\n",
    "\n",
    "Overall, it demonstrated:\n",
    "* higher mean & median end value, \n",
    "* lower standard deviation, \n",
    "* highest minimum end value (downside protection) among all scenarios,\n",
    "* highest probability of outperforming R3K index (54.8%)"
   ]
  },
  {
   "cell_type": "code",
   "execution_count": 190,
   "metadata": {},
   "outputs": [],
   "source": [
    "# here test tendency from more \"value\" to more \"growth\"\n",
    "l_probType1 = [[.4,.0,.6],[.3,.1,.6],[.2,.2,.6],[.1,.3,.6],[.0,.4,.6]]\n"
   ]
  },
  {
   "cell_type": "code",
   "execution_count": 196,
   "metadata": {},
   "outputs": [
    {
     "name": "stdout",
     "output_type": "stream",
     "text": [
      "running iteration 0, [0.4, 0.0, 0.6]\n",
      "running iteration 1, [0.3, 0.1, 0.6]\n",
      "running iteration 2, [0.2, 0.2, 0.6]\n",
      "running iteration 3, [0.1, 0.3, 0.6]\n",
      "running iteration 4, [0.0, 0.4, 0.6]\n"
     ]
    }
   ],
   "source": [
    "df_probType1 = pd.DataFrame()\n",
    "\n",
    "for i, p in enumerate(l_probType1):\n",
    "    print(f'running iteration {i}, {p}')\n",
    "\n",
    "    df_probType1[f'EV_{i+1}'] = pd.Series(reb_sim(1000, p, 0.2)[3])\n"
   ]
  },
  {
   "cell_type": "code",
   "execution_count": 197,
   "metadata": {
    "scrolled": true
   },
   "outputs": [
    {
     "data": {
      "text/html": [
       "<div>\n",
       "<style scoped>\n",
       "    .dataframe tbody tr th:only-of-type {\n",
       "        vertical-align: middle;\n",
       "    }\n",
       "\n",
       "    .dataframe tbody tr th {\n",
       "        vertical-align: top;\n",
       "    }\n",
       "\n",
       "    .dataframe thead th {\n",
       "        text-align: right;\n",
       "    }\n",
       "</style>\n",
       "<table border=\"1\" class=\"dataframe\">\n",
       "  <thead>\n",
       "    <tr style=\"text-align: right;\">\n",
       "      <th></th>\n",
       "      <th>EV_1</th>\n",
       "      <th>EV_2</th>\n",
       "      <th>EV_3</th>\n",
       "      <th>EV_4</th>\n",
       "      <th>EV_5</th>\n",
       "    </tr>\n",
       "  </thead>\n",
       "  <tbody>\n",
       "    <tr>\n",
       "      <th>count</th>\n",
       "      <td>1000.000000</td>\n",
       "      <td>1000.000000</td>\n",
       "      <td>1000.000000</td>\n",
       "      <td>1000.000000</td>\n",
       "      <td>1000.000000</td>\n",
       "    </tr>\n",
       "    <tr>\n",
       "      <th>mean</th>\n",
       "      <td>0.781696</td>\n",
       "      <td>0.784550</td>\n",
       "      <td>0.784682</td>\n",
       "      <td>0.789664</td>\n",
       "      <td>0.794916</td>\n",
       "    </tr>\n",
       "    <tr>\n",
       "      <th>std</th>\n",
       "      <td>0.048221</td>\n",
       "      <td>0.057366</td>\n",
       "      <td>0.061880</td>\n",
       "      <td>0.060269</td>\n",
       "      <td>0.049024</td>\n",
       "    </tr>\n",
       "    <tr>\n",
       "      <th>min</th>\n",
       "      <td>0.663504</td>\n",
       "      <td>0.628372</td>\n",
       "      <td>0.603534</td>\n",
       "      <td>0.621336</td>\n",
       "      <td>0.683529</td>\n",
       "    </tr>\n",
       "    <tr>\n",
       "      <th>25%</th>\n",
       "      <td>0.747627</td>\n",
       "      <td>0.745961</td>\n",
       "      <td>0.742272</td>\n",
       "      <td>0.748619</td>\n",
       "      <td>0.758238</td>\n",
       "    </tr>\n",
       "    <tr>\n",
       "      <th>50%</th>\n",
       "      <td>0.776945</td>\n",
       "      <td>0.782182</td>\n",
       "      <td>0.783166</td>\n",
       "      <td>0.788532</td>\n",
       "      <td>0.794155</td>\n",
       "    </tr>\n",
       "    <tr>\n",
       "      <th>75%</th>\n",
       "      <td>0.814088</td>\n",
       "      <td>0.823088</td>\n",
       "      <td>0.824700</td>\n",
       "      <td>0.825598</td>\n",
       "      <td>0.829980</td>\n",
       "    </tr>\n",
       "    <tr>\n",
       "      <th>max</th>\n",
       "      <td>0.910511</td>\n",
       "      <td>0.975639</td>\n",
       "      <td>0.992270</td>\n",
       "      <td>1.010166</td>\n",
       "      <td>0.913785</td>\n",
       "    </tr>\n",
       "  </tbody>\n",
       "</table>\n",
       "</div>"
      ],
      "text/plain": [
       "              EV_1         EV_2         EV_3         EV_4         EV_5\n",
       "count  1000.000000  1000.000000  1000.000000  1000.000000  1000.000000\n",
       "mean      0.781696     0.784550     0.784682     0.789664     0.794916\n",
       "std       0.048221     0.057366     0.061880     0.060269     0.049024\n",
       "min       0.663504     0.628372     0.603534     0.621336     0.683529\n",
       "25%       0.747627     0.745961     0.742272     0.748619     0.758238\n",
       "50%       0.776945     0.782182     0.783166     0.788532     0.794155\n",
       "75%       0.814088     0.823088     0.824700     0.825598     0.829980\n",
       "max       0.910511     0.975639     0.992270     1.010166     0.913785"
      ]
     },
     "execution_count": 197,
     "metadata": {},
     "output_type": "execute_result"
    }
   ],
   "source": [
    "df_probType1.describe()"
   ]
  },
  {
   "cell_type": "code",
   "execution_count": 314,
   "metadata": {},
   "outputs": [
    {
     "data": {
      "text/html": [
       "<div>\n",
       "<style scoped>\n",
       "    .dataframe tbody tr th:only-of-type {\n",
       "        vertical-align: middle;\n",
       "    }\n",
       "\n",
       "    .dataframe tbody tr th {\n",
       "        vertical-align: top;\n",
       "    }\n",
       "\n",
       "    .dataframe thead th {\n",
       "        text-align: right;\n",
       "    }\n",
       "</style>\n",
       "<table border=\"1\" class=\"dataframe\">\n",
       "  <thead>\n",
       "    <tr style=\"text-align: right;\">\n",
       "      <th></th>\n",
       "      <th>POutPerm_1</th>\n",
       "      <th>POutPerm_2</th>\n",
       "      <th>POutPerm_3</th>\n",
       "      <th>POutPerm_4</th>\n",
       "      <th>POutPerm_5</th>\n",
       "    </tr>\n",
       "  </thead>\n",
       "  <tbody>\n",
       "    <tr>\n",
       "      <th>0</th>\n",
       "      <td>0.429</td>\n",
       "      <td>0.458</td>\n",
       "      <td>0.474</td>\n",
       "      <td>0.512</td>\n",
       "      <td>0.548</td>\n",
       "    </tr>\n",
       "  </tbody>\n",
       "</table>\n",
       "</div>"
      ],
      "text/plain": [
       "   POutPerm_1  POutPerm_2  POutPerm_3  POutPerm_4  POutPerm_5\n",
       "0       0.429       0.458       0.474       0.512       0.548"
      ]
     },
     "execution_count": 314,
     "metadata": {},
     "output_type": "execute_result"
    }
   ],
   "source": [
    "# probability of outperformance\n",
    "prob_op(df_probType1,r3k_EndV)"
   ]
  },
  {
   "cell_type": "code",
   "execution_count": 281,
   "metadata": {},
   "outputs": [
    {
     "data": {
      "text/plain": [
       "Text(0,-35,'Souce: Tao of Value')"
      ]
     },
     "execution_count": 281,
     "metadata": {},
     "output_type": "execute_result"
    },
    {
     "data": {
      "image/png": "[encoded data removed]",
      "text/plain": [
       "<Figure size 432x288 with 1 Axes>"
      ]
     },
     "metadata": {},
     "output_type": "display_data"
    }
   ],
   "source": [
    "# histogram on different investor styles\n",
    "\n",
    "for i,c in enumerate(df_probType1.columns):\n",
    "    plt.hist(df_probType1[c], density=True, alpha=0.3, color=clr2[i*2] )\n",
    "\n",
    "plt.axvline(x=r3k_EndV, color=clr1[2])\n",
    "plt.title(\"Distribution of End Value by Investor Style\")\n",
    "plt.xlabel('End Value 11/31/2009 ($)')\n",
    "plt.ylabel('Density')\n",
    "plt.legend(['R3K','40% Rev, 0% Mon','30% Rev, 10% Mon','20% Rev, 20% Mon','10% Rev, 30% Mon','0% Rev, 40% Mon'])\n",
    "plt.annotate('Souce: Tao of Value', (0,0), (0, -35), xycoords='axes fraction', textcoords='offset points', va='top')\n"
   ]
  },
  {
   "cell_type": "markdown",
   "metadata": {},
   "source": [
    "#### Sensitive Test of Activeness of Investors\n",
    "We can also model different type of investors to allow higher probability of \"do something\" vs. \"do nothing\". The extreme \"do nothing\" investor would simply hold the index (100% probability of \"do nothing\"), where the more active investor would be urged to \"do something\" (e.g. 40% of times \"Reversion\", 40% of times \"Momentum\" & 20% of times \"Do Nothing\").\n",
    "\n",
    "Below is the sensitivity analysis of activeness of investors. We assume a balanced probability between reversion and momentum, however different level of probability of \"do something\" to emulate activeness of investors.\n",
    "\n",
    "e.g. [0.5,0.5,0] means the investor would always act with half of time do \"reversion\" rebalancing, and half do \"momentum\" rebalancing. And [0.1,0.1,0.8] means the investor would 80% of the time do nothing, 10% of the time do \"reversion\" rebalancing & 10% of the time do \"momentum\" rebalancing.\n",
    "\n",
    "The results shows:\n",
    "* Both more active & less active investors outperform moderate active investors,\n",
    "* The least active investors (with probability distribution of [0.1,0.1,0.8]) did as good as, if not better than others on average, median return\n",
    "* The least active investors did much better in standard deviation, as expected\n",
    "* The least active investors also hold the best odds to outperform index (55.3%)"
   ]
  },
  {
   "cell_type": "code",
   "execution_count": 276,
   "metadata": {},
   "outputs": [],
   "source": [
    "# here test tendency between \n",
    "l_probType2 = [[.5,.5,.0],[.4,.4,.2],[.3,.3,.4],[.2,.2,.6],[.1,.1,.8]]"
   ]
  },
  {
   "cell_type": "code",
   "execution_count": 192,
   "metadata": {},
   "outputs": [
    {
     "name": "stdout",
     "output_type": "stream",
     "text": [
      "running iteration 0, [0.5, 0.5, 0.0]\n",
      "running iteration 1, [0.4, 0.4, 0.2]\n",
      "running iteration 2, [0.3, 0.3, 0.4]\n",
      "running iteration 3, [0.2, 0.2, 0.6]\n",
      "running iteration 4, [0.1, 0.1, 0.8]\n"
     ]
    }
   ],
   "source": [
    "df_probType2 = pd.DataFrame()\n",
    "\n",
    "for i, p in enumerate(l_probType2):\n",
    "    print(f'running iteration {i}, {p}')\n",
    "\n",
    "    df_probType2[f'EV_{i+1}'] = pd.Series(reb_sim(1000, p, 0.2)[3])\n"
   ]
  },
  {
   "cell_type": "code",
   "execution_count": 297,
   "metadata": {
    "scrolled": false
   },
   "outputs": [
    {
     "data": {
      "text/html": [
       "<div>\n",
       "<style scoped>\n",
       "    .dataframe tbody tr th:only-of-type {\n",
       "        vertical-align: middle;\n",
       "    }\n",
       "\n",
       "    .dataframe tbody tr th {\n",
       "        vertical-align: top;\n",
       "    }\n",
       "\n",
       "    .dataframe thead th {\n",
       "        text-align: right;\n",
       "    }\n",
       "</style>\n",
       "<table border=\"1\" class=\"dataframe\">\n",
       "  <thead>\n",
       "    <tr style=\"text-align: right;\">\n",
       "      <th></th>\n",
       "      <th>EV_1</th>\n",
       "      <th>EV_2</th>\n",
       "      <th>EV_3</th>\n",
       "      <th>EV_4</th>\n",
       "      <th>EV_5</th>\n",
       "    </tr>\n",
       "  </thead>\n",
       "  <tbody>\n",
       "    <tr>\n",
       "      <th>count</th>\n",
       "      <td>1000.000000</td>\n",
       "      <td>1000.000000</td>\n",
       "      <td>1000.000000</td>\n",
       "      <td>1000.000000</td>\n",
       "      <td>1000.000000</td>\n",
       "    </tr>\n",
       "    <tr>\n",
       "      <th>mean</th>\n",
       "      <td>0.790505</td>\n",
       "      <td>0.790635</td>\n",
       "      <td>0.787860</td>\n",
       "      <td>0.783286</td>\n",
       "      <td>0.790284</td>\n",
       "    </tr>\n",
       "    <tr>\n",
       "      <th>std</th>\n",
       "      <td>0.100781</td>\n",
       "      <td>0.087033</td>\n",
       "      <td>0.074530</td>\n",
       "      <td>0.061349</td>\n",
       "      <td>0.046095</td>\n",
       "    </tr>\n",
       "    <tr>\n",
       "      <th>min</th>\n",
       "      <td>0.576450</td>\n",
       "      <td>0.596407</td>\n",
       "      <td>0.589773</td>\n",
       "      <td>0.626947</td>\n",
       "      <td>0.650131</td>\n",
       "    </tr>\n",
       "    <tr>\n",
       "      <th>25%</th>\n",
       "      <td>0.712895</td>\n",
       "      <td>0.726405</td>\n",
       "      <td>0.732904</td>\n",
       "      <td>0.740275</td>\n",
       "      <td>0.764051</td>\n",
       "    </tr>\n",
       "    <tr>\n",
       "      <th>50%</th>\n",
       "      <td>0.788011</td>\n",
       "      <td>0.786670</td>\n",
       "      <td>0.779683</td>\n",
       "      <td>0.783298</td>\n",
       "      <td>0.787805</td>\n",
       "    </tr>\n",
       "    <tr>\n",
       "      <th>75%</th>\n",
       "      <td>0.860391</td>\n",
       "      <td>0.852392</td>\n",
       "      <td>0.841670</td>\n",
       "      <td>0.823233</td>\n",
       "      <td>0.814514</td>\n",
       "    </tr>\n",
       "    <tr>\n",
       "      <th>max</th>\n",
       "      <td>1.076269</td>\n",
       "      <td>1.032926</td>\n",
       "      <td>1.006619</td>\n",
       "      <td>0.982031</td>\n",
       "      <td>0.951715</td>\n",
       "    </tr>\n",
       "  </tbody>\n",
       "</table>\n",
       "</div>"
      ],
      "text/plain": [
       "              EV_1         EV_2         EV_3         EV_4         EV_5\n",
       "count  1000.000000  1000.000000  1000.000000  1000.000000  1000.000000\n",
       "mean      0.790505     0.790635     0.787860     0.783286     0.790284\n",
       "std       0.100781     0.087033     0.074530     0.061349     0.046095\n",
       "min       0.576450     0.596407     0.589773     0.626947     0.650131\n",
       "25%       0.712895     0.726405     0.732904     0.740275     0.764051\n",
       "50%       0.788011     0.786670     0.779683     0.783298     0.787805\n",
       "75%       0.860391     0.852392     0.841670     0.823233     0.814514\n",
       "max       1.076269     1.032926     1.006619     0.982031     0.951715"
      ]
     },
     "execution_count": 297,
     "metadata": {},
     "output_type": "execute_result"
    }
   ],
   "source": [
    "df_probType2.describe()"
   ]
  },
  {
   "cell_type": "code",
   "execution_count": 316,
   "metadata": {},
   "outputs": [
    {
     "data": {
      "text/html": [
       "<div>\n",
       "<style scoped>\n",
       "    .dataframe tbody tr th:only-of-type {\n",
       "        vertical-align: middle;\n",
       "    }\n",
       "\n",
       "    .dataframe tbody tr th {\n",
       "        vertical-align: top;\n",
       "    }\n",
       "\n",
       "    .dataframe thead th {\n",
       "        text-align: right;\n",
       "    }\n",
       "</style>\n",
       "<table border=\"1\" class=\"dataframe\">\n",
       "  <thead>\n",
       "    <tr style=\"text-align: right;\">\n",
       "      <th></th>\n",
       "      <th>POutPerm_1</th>\n",
       "      <th>POutPerm_2</th>\n",
       "      <th>POutPerm_3</th>\n",
       "      <th>POutPerm_4</th>\n",
       "      <th>POutPerm_5</th>\n",
       "    </tr>\n",
       "  </thead>\n",
       "  <tbody>\n",
       "    <tr>\n",
       "      <th>0</th>\n",
       "      <td>0.502</td>\n",
       "      <td>0.497</td>\n",
       "      <td>0.467</td>\n",
       "      <td>0.475</td>\n",
       "      <td>0.553</td>\n",
       "    </tr>\n",
       "  </tbody>\n",
       "</table>\n",
       "</div>"
      ],
      "text/plain": [
       "   POutPerm_1  POutPerm_2  POutPerm_3  POutPerm_4  POutPerm_5\n",
       "0       0.502       0.497       0.467       0.475       0.553"
      ]
     },
     "execution_count": 316,
     "metadata": {},
     "output_type": "execute_result"
    }
   ],
   "source": [
    "# probability of outperformance\n",
    "prob_op(df_probType2,r3k_EndV)"
   ]
  },
  {
   "cell_type": "code",
   "execution_count": 283,
   "metadata": {},
   "outputs": [
    {
     "data": {
      "text/plain": [
       "Text(0,-35,'Souce: Tao of Value')"
      ]
     },
     "execution_count": 283,
     "metadata": {},
     "output_type": "execute_result"
    },
    {
     "data": {
      "image/png": "[encoded data removed]",
      "text/plain": [
       "<Figure size 432x288 with 1 Axes>"
      ]
     },
     "metadata": {},
     "output_type": "display_data"
    }
   ],
   "source": [
    "# histogram on different investor activeness\n",
    "\n",
    "for i,c in enumerate(df_probType2.columns):\n",
    "    plt.hist(df_probType2[c], density=True, alpha=0.3, color=clr2[i*2] )\n",
    "\n",
    "plt.axvline(x=r3k_EndV, color=clr1[2])\n",
    "plt.title(\"Distribution of End Value by Investor Activeness\")\n",
    "plt.xlabel('End Value 11/31/2009 ($)')\n",
    "plt.ylabel('Density')\n",
    "plt.legend(['R3K','50% Rev, 50% Mon','40% Rev, 40% Mon','30% Rev, 30% Mon','20% Rev, 20% Mon','10% Rev, 10% Mon'])\n",
    "plt.annotate('Souce: Tao of Value', (0,0), (0, -35), xycoords='axes fraction', textcoords='offset points', va='top')\n"
   ]
  }
 ],
 "metadata": {
  "hide_input": false,
  "kernelspec": {
   "display_name": "Python 3",
   "language": "python",
   "name": "python3"
  },
  "language_info": {
   "codemirror_mode": {
    "name": "ipython",
    "version": 3
   },
   "file_extension": ".py",
   "mimetype": "text/x-python",
   "name": "python",
   "nbconvert_exporter": "python",
   "pygments_lexer": "ipython3",
   "version": "3.6.5"
  }
 },
 "nbformat": 4,
 "nbformat_minor": 2
}
